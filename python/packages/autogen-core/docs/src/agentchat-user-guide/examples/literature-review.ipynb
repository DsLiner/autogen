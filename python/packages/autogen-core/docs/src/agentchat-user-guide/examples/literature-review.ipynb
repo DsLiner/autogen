{
 "cells": [
  {
   "cell_type": "markdown",
   "metadata": {},
   "source": [
    "# Literature Review\n",
    "\n",
    "A common task while exploring a new topic is to conduct a literature review. In this example we will explore how a multi-agent team can be configured to conduct a _simple_ literature review.\n",
    "\n",
    "- **Arxiv Search Agent**: Use the Arxiv API to search for papers related to a given topic, write the search results to a file, and generate a set of relevant questions (e.g., number of papers found, authors, publication date, etc.).\n",
    "- **Report Agent**: Generate a report based on the information collected by the search and stock analysis agents.\n",
    "\n",
    "\n",
    "First, let us import the necessary modules. "
   ]
  },
  {
   "cell_type": "code",
   "execution_count": 1,
   "metadata": {},
   "outputs": [],
   "source": [
    "from autogen_agentchat.agents import CodingAssistantAgent, ToolUseAssistantAgent\n",
    "from autogen_agentchat.teams.group_chat import RoundRobinGroupChat\n",
    "from autogen_core.components.models import OpenAIChatCompletionClient\n",
    "from autogen_core.components.tools import FunctionTool"
   ]
  },
  {
   "cell_type": "markdown",
   "metadata": {},
   "source": [
    "## Defining Tools \n",
    "\n",
    "Next, we will define the tools that the agents will use to perform their tasks. In this case we will define a simple function `search_arxiv` that will use the `arxiv` library to search for papers related to a given topic.  \n",
    "\n",
    "Finally, we will wrap the functions into a `FunctionTool` class that will allow us to use it as a tool in the agents."
   ]
  },
  {
   "cell_type": "code",
   "execution_count": 2,
   "metadata": {},
   "outputs": [],
   "source": [
    "\n",
    "def arxiv_search(query: str, max_results: int = 5) -> list:\n",
    "    \"\"\"\n",
    "    Search Arxiv for papers and return the results including abstracts.\n",
    "    \"\"\"\n",
    "    import arxiv  \n",
    "\n",
    "    search = arxiv.Search(\n",
    "        query=query,\n",
    "        max_results=max_results,\n",
    "        sort_by=arxiv.SortCriterion.Relevance\n",
    "    )\n",
    "    \n",
    "    results = []\n",
    "    for paper in search.results():\n",
    "        results.append({\n",
    "            'title': paper.title,\n",
    "            'authors': [author.name for author in paper.authors],\n",
    "            'published': paper.published.strftime('%Y-%m-%d'),\n",
    "            'abstract': paper.summary,\n",
    "            'pdf_url': paper.pdf_url,\n",
    "        })\n",
    "    \n",
    "    # # Write results to a file\n",
    "    # with open('arxiv_search_results.json', 'w') as f:\n",
    "    #     json.dump(results, f, indent=2)\n",
    "    \n",
    "    return results"
   ]
  },
  {
   "cell_type": "code",
   "execution_count": 3,
   "metadata": {},
   "outputs": [],
   "source": [
    "arxiv_search_tool = FunctionTool(arxiv_search, description=\"Search Arxiv for papers related to a given topic, including abstracts\")  "
   ]
  },
  {
   "cell_type": "markdown",
   "metadata": {},
   "source": [
    "## Defining Agents \n",
    "\n",
    "Next, we will define the agents that will perform the tasks. "
   ]
  },
  {
   "cell_type": "code",
   "execution_count": 4,
   "metadata": {},
   "outputs": [
    {
     "name": "stdout",
     "output_type": "stream",
     "text": [
      "--------------------------------------------------------------------------------\n",
      "user:\n",
      "Write a literature review on AI multiagent systems\n",
      "--------------------------------------------------------------------------------\n",
      "Arxiv_Search_Agent:\n",
      "[FunctionCall(id='call_VDuOvCNZFJ0h8WkMgaWJjdbj', arguments='{\"query\":\"AI multiagent systems\"}', name='arxiv_search')]\n"
     ]
    },
    {
     "name": "stderr",
     "output_type": "stream",
     "text": [
      "/tmp/ipykernel_207909/404270292.py:14: DeprecationWarning: The 'Search.results' method is deprecated, use 'Client.results' instead\n",
      "  for paper in search.results():\n"
     ]
    },
    {
     "name": "stdout",
     "output_type": "stream",
     "text": [
      "--------------------------------------------------------------------------------\n",
      "tool_agent:\n",
      "[FunctionExecutionResult(content='[{\\'title\\': \\'Human Values in Multiagent Systems\\', \\'authors\\': [\\'Nardine Osman\\', \"Mark d\\'Inverno\"], \\'published\\': \\'2023-05-04\\', \\'abstract\\': \\'One of the major challenges we face with ethical AI today is developing\\\\ncomputational systems whose reasoning and behaviour are provably aligned with\\\\nhuman values. Human values, however, are notorious for being ambiguous,\\\\ncontradictory and ever-changing. In order to bridge this gap, and get us closer\\\\nto the situation where we can formally reason about implementing values into\\\\nAI, this paper presents a formal representation of values, grounded in the\\\\nsocial sciences. We use this formal representation to articulate the key\\\\nchallenges for achieving value-aligned behaviour in multiagent systems (MAS)\\\\nand a research roadmap for addressing them.\\', \\'pdf_url\\': \\'http://arxiv.org/pdf/2305.02739v1\\'}, {\\'title\\': \\'AI Buzzwords Explained: Multi-Agent Path Finding (MAPF)\\', \\'authors\\': [\\'Hang Ma\\', \\'Sven Koenig\\'], \\'published\\': \\'2017-10-10\\', \\'abstract\\': \\'Explanation of the hot topic \"multi-agent path finding\".\\', \\'pdf_url\\': \\'http://arxiv.org/pdf/1710.03774v2\\'}, {\\'title\\': \\'AI for Social Impact: Learning and Planning in the Data-to-Deployment Pipeline\\', \\'authors\\': [\\'Andrew Perrault\\', \\'Fei Fang\\', \\'Arunesh Sinha\\', \\'Milind Tambe\\'], \\'published\\': \\'2019-12-16\\', \\'abstract\\': \\'With the maturing of AI and multiagent systems research, we have a tremendous\\\\nopportunity to direct these advances towards addressing complex societal\\\\nproblems. In pursuit of this goal of AI for Social Impact, we as AI researchers\\\\nmust go beyond improvements in computational methodology; it is important to\\\\nstep out in the field to demonstrate social impact. To this end, we focus on\\\\nthe problems of public safety and security, wildlife conservation, and public\\\\nhealth in low-resource communities, and present research advances in multiagent\\\\nsystems to address one key cross-cutting challenge: how to effectively deploy\\\\nour limited intervention resources in these problem domains. We present case\\\\nstudies from our deployments around the world as well as lessons learned that\\\\nwe hope are of use to researchers who are interested in AI for Social Impact.\\\\nIn pushing this research agenda, we believe AI can indeed play an important\\\\nrole in fighting social injustice and improving society.\\', \\'pdf_url\\': \\'http://arxiv.org/pdf/2001.00088v2\\'}, {\\'title\\': \\'Federated AI lets a team imagine together: Federated Learning of GANs\\', \\'authors\\': [\\'Rajagopal. A\\', \\'Nirmala. V\\'], \\'published\\': \\'2019-06-09\\', \\'abstract\\': \\'Envisioning a new imaginative idea together is a popular human need.\\\\nImagining together as a team can often lead to breakthrough ideas, but the\\\\ncollaboration effort can also be challenging, especially when the team members\\\\nare separated by time and space. What if there is a AI that can assist the team\\\\nto collaboratively envision new ideas?. Is it possible to develop a working\\\\nmodel of such an AI? This paper aims to design such an intelligence. This paper\\\\nproposes a approach to design a creative and collaborative intelligence by\\\\nemploying a form of distributed machine learning approach called Federated\\\\nLearning along with fusion on Generative Adversarial Networks, GAN. This\\\\ncollaborative creative AI presents a new paradigm in AI, one that lets a team\\\\nof two or more to come together to imagine and envision ideas that synergies\\\\nwell with interests of all members of the team. In short, this paper explores\\\\nthe design of a novel type of AI paradigm, called Federated AI Imagination, one\\\\nthat lets geographically distributed teams to collaboratively imagine.\\', \\'pdf_url\\': \\'http://arxiv.org/pdf/1906.03595v1\\'}, {\\'title\\': \\'Cognition is All You Need -- The Next Layer of AI Above Large Language Models\\', \\'authors\\': [\\'Nova Spivack\\', \\'Sam Douglas\\', \\'Michelle Crames\\', \\'Tim Connors\\'], \\'published\\': \\'2024-03-04\\', \\'abstract\\': \\'Recent studies of the applications of conversational AI tools, such as\\\\nchatbots powered by large language models, to complex real-world knowledge work\\\\nhave shown limitations related to reasoning and multi-step problem solving.\\\\nSpecifically, while existing chatbots simulate shallow reasoning and\\\\nunderstanding they are prone to errors as problem complexity increases. The\\\\nfailure of these systems to address complex knowledge work is due to the fact\\\\nthat they do not perform any actual cognition. In this position paper, we\\\\npresent Cognitive AI, a higher-level framework for implementing\\\\nprogrammatically defined neuro-symbolic cognition above and outside of large\\\\nlanguage models. Specifically, we propose a dual-layer functional architecture\\\\nfor Cognitive AI that serves as a roadmap for AI systems that can perform\\\\ncomplex multi-step knowledge work. We propose that Cognitive AI is a necessary\\\\nprecursor for the evolution of higher forms of AI, such as AGI, and\\\\nspecifically claim that AGI cannot be achieved by probabilistic approaches on\\\\ntheir own. We conclude with a discussion of the implications for large language\\\\nmodels, adoption cycles in AI, and commercial Cognitive AI development.\\', \\'pdf_url\\': \\'http://arxiv.org/pdf/2403.02164v2\\'}]', call_id='call_VDuOvCNZFJ0h8WkMgaWJjdbj')]\n",
      "--------------------------------------------------------------------------------\n",
      "Arxiv_Search_Agent:\n",
      "### Literature Review on AI Multiagent Systems\n",
      "\n",
      "#### Introduction\n",
      "Artificial Intelligence (AI) multiagent systems (MAS) refer to systems composed of multiple interacting intelligent agents. These systems are designed to work collaboratively and make decisions to achieve specific goals. Over the years, the study of MAS has evolved to address complex social problems, improve computational methodologies, and explore human values, contributing significantly to numerous fields such as robotics, social science, and ethics.\n",
      "\n",
      "#### Recent Advances in AI Multiagent Systems\n",
      "\n",
      "1. **Human Values in Multiagent Systems**\n",
      "   - **Authors:** Nardine Osman, Mark d'Inverno\n",
      "   - **Published:** May 4, 2023\n",
      "   - **Abstract:** This paper addresses a critical challenge in ethical AI: aligning computational systems’ reasoning and behavior with human values. It presents a formal representation of values, rooted in social sciences, and outlines challenges and future research directions for achieving value-aligned behavior in MAS. \n",
      "   - **Link:** [PDF](http://arxiv.org/pdf/2305.02739v1)\n",
      "\n",
      "2. **AI Buzzwords Explained: Multi-Agent Path Finding (MAPF)**\n",
      "   - **Authors:** Hang Ma, Sven Koenig\n",
      "   - **Published:** October 10, 2017\n",
      "   - **Abstract:** This paper discusses the hot topic of \"multi-agent path finding,\" providing insights into the methodologies and challenges involved in the tactical movement of agents within shared environments.\n",
      "   - **Link:** [PDF](http://arxiv.org/pdf/1710.03774v2)\n",
      "\n",
      "3. **AI for Social Impact: Learning and Planning in the Data-to-Deployment Pipeline**\n",
      "   - **Authors:** Andrew Perrault, Fei Fang, Arunesh Sinha, Milind Tambe\n",
      "   - **Published:** December 16, 2019\n",
      "   - **Abstract:** This research highlights the intersection of AI and MAS with societal impact, focusing on public safety, wildlife conservation, and public health. It emphasizes on deploying limited resources effectively and discusses lessons learned from various case studies worldwide.\n",
      "   - **Link:** [PDF](http://arxiv.org/pdf/2001.00088v2)\n",
      "\n",
      "4. **Federated AI lets a team imagine together: Federated Learning of GANs**\n",
      "   - **Authors:** Rajagopal. A, Nirmala. V\n",
      "   - **Published:** June 9, 2019\n",
      "   - **Abstract:** This paper introduces a novel AI paradigm, Federated AI Imagination, which leverages federated learning for collaborative creativity among geographically distributed teams. The focus is on developing AI that facilitates collective ideation and innovation.\n",
      "   - **Link:** [PDF](http://arxiv.org/pdf/1906.03595v1)\n",
      "\n",
      "5. **Cognition is All You Need -- The Next Layer of AI Above Large Language Models**\n",
      "   - **Authors:** Nova Spivack, Sam Douglas, Michelle Crames, Tim Connors\n",
      "   - **Published:** March 4, 2024\n",
      "   - **Abstract:** The authors propose a dual-layer structural framework for Cognitive AI that extends capabilities beyond current large language models. This new architecture aims to address complex knowledge tasks and suggests that a higher form of AI can only be achieved with cognitive capabilities integrated into existing systems.\n",
      "   - **Link:** [PDF](http://arxiv.org/pdf/2403.02164v2)\n",
      "\n",
      "#### Conclusion\n",
      "The literature reveals that AI multiagent systems are continuously evolving, addressing societal complexities, ethical considerations, and cognitive improvements. The efforts of researchers in framing human values, enhancing social impact applications, and developing collaborative frameworks underscore the potential of MAS to redefine interactions in various domains. The advancements aim to create more adaptive, efficient, and ethical AI systems that resonate with human needs and societal challenges.\n",
      "\n",
      "TERMINATE\n"
     ]
    },
    {
     "data": {
      "text/plain": [
       "TeamRunResult(messages=[TextMessage(source='user', content='Write a literature review on AI multiagent systems'), StopMessage(source='Arxiv_Search_Agent', content='### Literature Review on AI Multiagent Systems\\n\\n#### Introduction\\nArtificial Intelligence (AI) multiagent systems (MAS) refer to systems composed of multiple interacting intelligent agents. These systems are designed to work collaboratively and make decisions to achieve specific goals. Over the years, the study of MAS has evolved to address complex social problems, improve computational methodologies, and explore human values, contributing significantly to numerous fields such as robotics, social science, and ethics.\\n\\n#### Recent Advances in AI Multiagent Systems\\n\\n1. **Human Values in Multiagent Systems**\\n   - **Authors:** Nardine Osman, Mark d\\'Inverno\\n   - **Published:** May 4, 2023\\n   - **Abstract:** This paper addresses a critical challenge in ethical AI: aligning computational systems’ reasoning and behavior with human values. It presents a formal representation of values, rooted in social sciences, and outlines challenges and future research directions for achieving value-aligned behavior in MAS. \\n   - **Link:** [PDF](http://arxiv.org/pdf/2305.02739v1)\\n\\n2. **AI Buzzwords Explained: Multi-Agent Path Finding (MAPF)**\\n   - **Authors:** Hang Ma, Sven Koenig\\n   - **Published:** October 10, 2017\\n   - **Abstract:** This paper discusses the hot topic of \"multi-agent path finding,\" providing insights into the methodologies and challenges involved in the tactical movement of agents within shared environments.\\n   - **Link:** [PDF](http://arxiv.org/pdf/1710.03774v2)\\n\\n3. **AI for Social Impact: Learning and Planning in the Data-to-Deployment Pipeline**\\n   - **Authors:** Andrew Perrault, Fei Fang, Arunesh Sinha, Milind Tambe\\n   - **Published:** December 16, 2019\\n   - **Abstract:** This research highlights the intersection of AI and MAS with societal impact, focusing on public safety, wildlife conservation, and public health. It emphasizes on deploying limited resources effectively and discusses lessons learned from various case studies worldwide.\\n   - **Link:** [PDF](http://arxiv.org/pdf/2001.00088v2)\\n\\n4. **Federated AI lets a team imagine together: Federated Learning of GANs**\\n   - **Authors:** Rajagopal. A, Nirmala. V\\n   - **Published:** June 9, 2019\\n   - **Abstract:** This paper introduces a novel AI paradigm, Federated AI Imagination, which leverages federated learning for collaborative creativity among geographically distributed teams. The focus is on developing AI that facilitates collective ideation and innovation.\\n   - **Link:** [PDF](http://arxiv.org/pdf/1906.03595v1)\\n\\n5. **Cognition is All You Need -- The Next Layer of AI Above Large Language Models**\\n   - **Authors:** Nova Spivack, Sam Douglas, Michelle Crames, Tim Connors\\n   - **Published:** March 4, 2024\\n   - **Abstract:** The authors propose a dual-layer structural framework for Cognitive AI that extends capabilities beyond current large language models. This new architecture aims to address complex knowledge tasks and suggests that a higher form of AI can only be achieved with cognitive capabilities integrated into existing systems.\\n   - **Link:** [PDF](http://arxiv.org/pdf/2403.02164v2)\\n\\n#### Conclusion\\nThe literature reveals that AI multiagent systems are continuously evolving, addressing societal complexities, ethical considerations, and cognitive improvements. The efforts of researchers in framing human values, enhancing social impact applications, and developing collaborative frameworks underscore the potential of MAS to redefine interactions in various domains. The advancements aim to create more adaptive, efficient, and ethical AI systems that resonate with human needs and societal challenges.\\n\\nTERMINATE')])"
      ]
     },
     "execution_count": 4,
     "metadata": {},
     "output_type": "execute_result"
    }
   ],
   "source": [
    "arxiv_agent = ToolUseAssistantAgent(\n",
    "    name=\"Arxiv_Search_Agent\",\n",
    "    tool_schema=[arxiv_search_tool.schema],\n",
    "    model_client=OpenAIChatCompletionClient(model=\"gpt-4o-mini\"),\n",
    "    description=\"Search Arxiv for papers related to a given topic, including abstracts\", \n",
    ")\n",
    "report_agent = CodingAssistantAgent( \n",
    "    name=\"Report_Agent\",\n",
    "    model_client=OpenAIChatCompletionClient(model=\"gpt-4o-mini\"),\n",
    "    description=\"Generate a report based on a given topic\", \n",
    ")\n",
    "\n",
    "team = RoundRobinGroupChat( \n",
    "    participants=[arxiv_agent,report_agent], \n",
    "    tools=[arxiv_search_tool],\n",
    ")\n",
    "\n",
    "result = await team.run(task=\"Write a literature review on AI multiagent systems\")\n",
    "result"
   ]
  }
 ],
 "metadata": {
  "kernelspec": {
   "display_name": "agnext",
   "language": "python",
   "name": "python3"
  },
  "language_info": {
   "codemirror_mode": {
    "name": "ipython",
    "version": 3
   },
   "file_extension": ".py",
   "mimetype": "text/x-python",
   "name": "python",
   "nbconvert_exporter": "python",
   "pygments_lexer": "ipython3",
   "version": "3.11.10"
  }
 },
 "nbformat": 4,
 "nbformat_minor": 2
}
