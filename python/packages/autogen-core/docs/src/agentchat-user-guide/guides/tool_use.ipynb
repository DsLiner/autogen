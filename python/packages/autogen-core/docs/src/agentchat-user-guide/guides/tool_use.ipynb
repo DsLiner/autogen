{
 "cells": [
  {
   "cell_type": "markdown",
   "metadata": {},
   "source": [
    "# Using Tools\n",
    "\n",
    "The `AgentChat` api provides a `ToolUseAssistantAgent` with presets for adding tools that the agent can call as part of it's response. \n",
    "\n",
    ":::{note}\n",
    "\n",
    "The example presented here is a work in progress 🚧. Also, tool uses here assumed the `model_client` used by the agent supports tool calling. \n",
    "::: "
   ]
  },
  {
   "cell_type": "code",
   "execution_count": 1,
   "metadata": {},
   "outputs": [],
   "source": [
    "from autogen_agentchat.agents import ToolUseAssistantAgent\n",
    "from autogen_agentchat.teams.group_chat import RoundRobinGroupChat\n",
    "from autogen_core.components.models import OpenAIChatCompletionClient\n",
    "from autogen_core.components.tools import FunctionTool"
   ]
  },
  {
   "cell_type": "markdown",
   "metadata": {},
   "source": [
    "In AgentChat, a Tool is a function wrapped in the `FunctionTool` class exported from `autogen_core.components.tools`.   "
   ]
  },
  {
   "cell_type": "code",
   "execution_count": 2,
   "metadata": {},
   "outputs": [],
   "source": [
    "async def get_weather(city: str) -> str:\n",
    "    return f\"The weather in {city} is 72 degrees and Sunny.\"\n",
    "\n",
    "\n",
    "get_weather_tool = FunctionTool(get_weather, description=\"Get the weather for a city\")"
   ]
  },
  {
   "cell_type": "markdown",
   "metadata": {},
   "source": [
    "Finally, agents that use tools are defined in the following manner. \n",
    "\n",
    "-  An agent is instantiated based on the  `ToolUseAssistantAgent` class in AgentChat. The agent is aware of the tools it can use by passing a `tools_schema` attribute to the class, which is passed to the `model_client` when the agent generates a response.\n",
    "-  An agent Team is defined that takes a list of `tools`.  Effectively, the `ToolUseAssistantAgent` can generate messages that call tools, and the team is responsible executing those tool calls and returning the results."
   ]
  },
  {
   "cell_type": "code",
   "execution_count": 10,
   "metadata": {},
   "outputs": [
    {
     "name": "stdout",
     "output_type": "stream",
     "text": [
      "--------------------------------------------------------------------------------\n",
      "user:\n",
      "What's the weather in New York?\n",
      "--------------------------------------------------------------------------------\n",
      "Weather_Assistant:\n",
      "[FunctionCall(id='call_RtxnomN19BOg5tvBrPCA61jN', arguments='{\"city\":\"New York\"}', name='get_weather')]\n",
      "--------------------------------------------------------------------------------\n",
      "tool_agent:\n",
      "[FunctionExecutionResult(content='The weather in New York is 72 degrees and Sunny.', call_id='call_RtxnomN19BOg5tvBrPCA61jN')]\n",
      "--------------------------------------------------------------------------------\n",
      "Weather_Assistant:\n",
      "The weather in New York is 72 degrees and sunny. TERMINATE\n"
     ]
    }
   ],
   "source": [
    "assistant = ToolUseAssistantAgent(\n",
    "    \"Weather_Assistant\",\n",
    "    model_client=OpenAIChatCompletionClient(model=\"gpt-4o-mini\"),\n",
    "    tool_schema=[get_weather_tool.schema],\n",
    ")\n",
    "team = RoundRobinGroupChat([assistant], tools=[get_weather_tool])\n",
    "result = await team.run(\"What's the weather in New York?\")\n",
    "\n",
    "print(result)"
   ]
  },
  {
   "cell_type": "markdown",
   "metadata": {},
   "source": [
    "## Using Langchain Tools \n",
    "\n",
    "AutoGen also provides direct support for tools from LangChain via the `autogen_ext`  package.\n",
    "\n"
   ]
  },
  {
   "cell_type": "code",
   "execution_count": 12,
   "metadata": {},
   "outputs": [],
   "source": [
    "# pip install langchain, langchain-community, wikipedia , autogen-ext\n",
    "\n",
    "from autogen_ext.tools.langchain import LangChainToolAdapter\n",
    "from langchain.tools import WikipediaQueryRun\n",
    "from langchain_community.utilities import WikipediaAPIWrapper\n",
    "\n",
    "api_wrapper = WikipediaAPIWrapper(top_k_results=1, doc_content_chars_max=100)\n",
    "tool = WikipediaQueryRun(api_wrapper=api_wrapper)\n",
    "\n",
    "langchain_wikipedia_tool = LangChainToolAdapter(tool)"
   ]
  },
  {
   "cell_type": "code",
   "execution_count": 15,
   "metadata": {},
   "outputs": [
    {
     "name": "stdout",
     "output_type": "stream",
     "text": [
      "--------------------------------------------------------------------------------\n",
      "user:\n",
      "Who was the first president of the United States?\n",
      "--------------------------------------------------------------------------------\n",
      "WikiPedia_Assistant:\n",
      "[FunctionCall(id='call_CZA1pVGETEdvJv34aZ4dN7PF', arguments='{\"query\":\"first president of the United States\"}', name='wikipedia')]\n",
      "--------------------------------------------------------------------------------\n",
      "tool_agent:\n",
      "[FunctionExecutionResult(content='Page: George Washington\\nSummary: George Washington (February 22, 1732 – December 14, 1799) was an Am', call_id='call_CZA1pVGETEdvJv34aZ4dN7PF')]\n",
      "--------------------------------------------------------------------------------\n",
      "WikiPedia_Assistant:\n",
      "The first president of the United States was George Washington, who served from April 30, 1789, to March 4, 1797. \n",
      "\n",
      "TERMINATE\n"
     ]
    }
   ],
   "source": [
    "wikipedia_assistant = ToolUseAssistantAgent(\n",
    "    \"WikiPedia_Assistant\",\n",
    "    model_client=OpenAIChatCompletionClient(model=\"gpt-4o-mini\"),\n",
    "    tool_schema=[langchain_wikipedia_tool.schema],\n",
    ")\n",
    "team = RoundRobinGroupChat([wikipedia_assistant], tools=[langchain_wikipedia_tool])\n",
    "result = await team.run(\"Who was the first president of the United States?\")\n",
    "\n",
    "# print(result)"
   ]
  },
  {
   "cell_type": "code",
   "execution_count": null,
   "metadata": {},
   "outputs": [],
   "source": []
  }
 ],
 "metadata": {
  "kernelspec": {
   "display_name": ".venv",
   "language": "python",
   "name": "python3"
  },
  "language_info": {
   "codemirror_mode": {
    "name": "ipython",
    "version": 3
   },
   "file_extension": ".py",
   "mimetype": "text/x-python",
   "name": "python",
   "nbconvert_exporter": "python",
   "pygments_lexer": "ipython3",
   "version": "3.11.9"
  }
 },
 "nbformat": 4,
 "nbformat_minor": 2
}
